{
 "cells": [
  {
   "cell_type": "code",
   "execution_count": 18,
   "metadata": {
    "collapsed": false
   },
   "outputs": [
    {
     "name": "stdout",
     "output_type": "stream",
     "text": [
      "{u'errors': [{u'message': u'Bad Authentication data.', u'code': 215}]}\n"
     ]
    }
   ],
   "source": [
    "import urllib\n",
    "import json\n",
    "response=urllib.urlopen(\"https://api.twitter.com/1.1/search/tweets.json?q=microsoft\")\n",
    "#print type(response)\n",
    "pyresponse=json.load(response)\n",
    "print pyresponse"
   ]
  }
 ],
 "metadata": {
  "kernelspec": {
   "display_name": "Python 2",
   "language": "python",
   "name": "python2"
  },
  "language_info": {
   "codemirror_mode": {
    "name": "ipython",
    "version": 2
   },
   "file_extension": ".py",
   "mimetype": "text/x-python",
   "name": "python",
   "nbconvert_exporter": "python",
   "pygments_lexer": "ipython2",
   "version": "2.7.10"
  }
 },
 "nbformat": 4,
 "nbformat_minor": 0
}
