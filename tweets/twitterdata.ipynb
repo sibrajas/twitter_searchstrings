import urllib
import json
response=urllib.urlopen("http://www.search.twitter.com/search.json?q=microsoft")
#pyresponse=json.dumps(response)
print response
